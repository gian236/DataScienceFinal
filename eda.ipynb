{
 "cells": [
  {
   "cell_type": "markdown",
   "id": "1bbab770",
   "metadata": {},
   "source": [
    "# **EDA** (Exploratory Data Analysis)\n",
    "## Heart Disease Health Indicators Dataset\n",
    "### Gian Paolo Robelo 20230117, Jose Pablo Tanchez 20230005\n"
   ]
  },
  {
   "cell_type": "code",
   "execution_count": 7,
   "id": "f236e516",
   "metadata": {},
   "outputs": [
    {
     "data": {
      "application/vnd.microsoft.datawrangler.viewer.v0+json": {
       "columns": [
        {
         "name": "index",
         "rawType": "int64",
         "type": "integer"
        },
        {
         "name": "HeartDiseaseorAttack",
         "rawType": "float64",
         "type": "float"
        },
        {
         "name": "HighBP",
         "rawType": "float64",
         "type": "float"
        },
        {
         "name": "HighChol",
         "rawType": "float64",
         "type": "float"
        },
        {
         "name": "CholCheck",
         "rawType": "float64",
         "type": "float"
        },
        {
         "name": "BMI",
         "rawType": "float64",
         "type": "float"
        },
        {
         "name": "Smoker",
         "rawType": "float64",
         "type": "float"
        },
        {
         "name": "Stroke",
         "rawType": "float64",
         "type": "float"
        },
        {
         "name": "Diabetes",
         "rawType": "float64",
         "type": "float"
        },
        {
         "name": "PhysActivity",
         "rawType": "float64",
         "type": "float"
        },
        {
         "name": "Fruits",
         "rawType": "float64",
         "type": "float"
        },
        {
         "name": "Veggies",
         "rawType": "float64",
         "type": "float"
        },
        {
         "name": "HvyAlcoholConsump",
         "rawType": "float64",
         "type": "float"
        },
        {
         "name": "AnyHealthcare",
         "rawType": "float64",
         "type": "float"
        },
        {
         "name": "NoDocbcCost",
         "rawType": "float64",
         "type": "float"
        },
        {
         "name": "GenHlth",
         "rawType": "float64",
         "type": "float"
        },
        {
         "name": "MentHlth",
         "rawType": "float64",
         "type": "float"
        },
        {
         "name": "PhysHlth",
         "rawType": "float64",
         "type": "float"
        },
        {
         "name": "DiffWalk",
         "rawType": "float64",
         "type": "float"
        },
        {
         "name": "Sex",
         "rawType": "float64",
         "type": "float"
        },
        {
         "name": "Age",
         "rawType": "float64",
         "type": "float"
        },
        {
         "name": "Education",
         "rawType": "float64",
         "type": "float"
        },
        {
         "name": "Income",
         "rawType": "float64",
         "type": "float"
        }
       ],
       "conversionMethod": "pd.DataFrame",
       "ref": "0c468fca-f999-4a87-ac93-e9b3608c9337",
       "rows": [
        [
         "0",
         "0.0",
         "1.0",
         "1.0",
         "1.0",
         "40.0",
         "1.0",
         "0.0",
         "0.0",
         "0.0",
         "0.0",
         "1.0",
         "0.0",
         "1.0",
         "0.0",
         "5.0",
         "18.0",
         "15.0",
         "1.0",
         "0.0",
         "9.0",
         "4.0",
         "3.0"
        ],
        [
         "1",
         "0.0",
         "0.0",
         "0.0",
         "0.0",
         "25.0",
         "1.0",
         "0.0",
         "0.0",
         "1.0",
         "0.0",
         "0.0",
         "0.0",
         "0.0",
         "1.0",
         "3.0",
         "0.0",
         "0.0",
         "0.0",
         "0.0",
         "7.0",
         "6.0",
         "1.0"
        ],
        [
         "2",
         "0.0",
         "1.0",
         "1.0",
         "1.0",
         "28.0",
         "0.0",
         "0.0",
         "0.0",
         "0.0",
         "1.0",
         "0.0",
         "0.0",
         "1.0",
         "1.0",
         "5.0",
         "30.0",
         "30.0",
         "1.0",
         "0.0",
         "9.0",
         "4.0",
         "8.0"
        ],
        [
         "3",
         "0.0",
         "1.0",
         "0.0",
         "1.0",
         "27.0",
         "0.0",
         "0.0",
         "0.0",
         "1.0",
         "1.0",
         "1.0",
         "0.0",
         "1.0",
         "0.0",
         "2.0",
         "0.0",
         "0.0",
         "0.0",
         "0.0",
         "11.0",
         "3.0",
         "6.0"
        ],
        [
         "4",
         "0.0",
         "1.0",
         "1.0",
         "1.0",
         "24.0",
         "0.0",
         "0.0",
         "0.0",
         "1.0",
         "1.0",
         "1.0",
         "0.0",
         "1.0",
         "0.0",
         "2.0",
         "3.0",
         "0.0",
         "0.0",
         "0.0",
         "11.0",
         "5.0",
         "4.0"
        ]
       ],
       "shape": {
        "columns": 22,
        "rows": 5
       }
      },
      "text/html": [
       "<div>\n",
       "<style scoped>\n",
       "    .dataframe tbody tr th:only-of-type {\n",
       "        vertical-align: middle;\n",
       "    }\n",
       "\n",
       "    .dataframe tbody tr th {\n",
       "        vertical-align: top;\n",
       "    }\n",
       "\n",
       "    .dataframe thead th {\n",
       "        text-align: right;\n",
       "    }\n",
       "</style>\n",
       "<table border=\"1\" class=\"dataframe\">\n",
       "  <thead>\n",
       "    <tr style=\"text-align: right;\">\n",
       "      <th></th>\n",
       "      <th>HeartDiseaseorAttack</th>\n",
       "      <th>HighBP</th>\n",
       "      <th>HighChol</th>\n",
       "      <th>CholCheck</th>\n",
       "      <th>BMI</th>\n",
       "      <th>Smoker</th>\n",
       "      <th>Stroke</th>\n",
       "      <th>Diabetes</th>\n",
       "      <th>PhysActivity</th>\n",
       "      <th>Fruits</th>\n",
       "      <th>...</th>\n",
       "      <th>AnyHealthcare</th>\n",
       "      <th>NoDocbcCost</th>\n",
       "      <th>GenHlth</th>\n",
       "      <th>MentHlth</th>\n",
       "      <th>PhysHlth</th>\n",
       "      <th>DiffWalk</th>\n",
       "      <th>Sex</th>\n",
       "      <th>Age</th>\n",
       "      <th>Education</th>\n",
       "      <th>Income</th>\n",
       "    </tr>\n",
       "  </thead>\n",
       "  <tbody>\n",
       "    <tr>\n",
       "      <th>0</th>\n",
       "      <td>0.0</td>\n",
       "      <td>1.0</td>\n",
       "      <td>1.0</td>\n",
       "      <td>1.0</td>\n",
       "      <td>40.0</td>\n",
       "      <td>1.0</td>\n",
       "      <td>0.0</td>\n",
       "      <td>0.0</td>\n",
       "      <td>0.0</td>\n",
       "      <td>0.0</td>\n",
       "      <td>...</td>\n",
       "      <td>1.0</td>\n",
       "      <td>0.0</td>\n",
       "      <td>5.0</td>\n",
       "      <td>18.0</td>\n",
       "      <td>15.0</td>\n",
       "      <td>1.0</td>\n",
       "      <td>0.0</td>\n",
       "      <td>9.0</td>\n",
       "      <td>4.0</td>\n",
       "      <td>3.0</td>\n",
       "    </tr>\n",
       "    <tr>\n",
       "      <th>1</th>\n",
       "      <td>0.0</td>\n",
       "      <td>0.0</td>\n",
       "      <td>0.0</td>\n",
       "      <td>0.0</td>\n",
       "      <td>25.0</td>\n",
       "      <td>1.0</td>\n",
       "      <td>0.0</td>\n",
       "      <td>0.0</td>\n",
       "      <td>1.0</td>\n",
       "      <td>0.0</td>\n",
       "      <td>...</td>\n",
       "      <td>0.0</td>\n",
       "      <td>1.0</td>\n",
       "      <td>3.0</td>\n",
       "      <td>0.0</td>\n",
       "      <td>0.0</td>\n",
       "      <td>0.0</td>\n",
       "      <td>0.0</td>\n",
       "      <td>7.0</td>\n",
       "      <td>6.0</td>\n",
       "      <td>1.0</td>\n",
       "    </tr>\n",
       "    <tr>\n",
       "      <th>2</th>\n",
       "      <td>0.0</td>\n",
       "      <td>1.0</td>\n",
       "      <td>1.0</td>\n",
       "      <td>1.0</td>\n",
       "      <td>28.0</td>\n",
       "      <td>0.0</td>\n",
       "      <td>0.0</td>\n",
       "      <td>0.0</td>\n",
       "      <td>0.0</td>\n",
       "      <td>1.0</td>\n",
       "      <td>...</td>\n",
       "      <td>1.0</td>\n",
       "      <td>1.0</td>\n",
       "      <td>5.0</td>\n",
       "      <td>30.0</td>\n",
       "      <td>30.0</td>\n",
       "      <td>1.0</td>\n",
       "      <td>0.0</td>\n",
       "      <td>9.0</td>\n",
       "      <td>4.0</td>\n",
       "      <td>8.0</td>\n",
       "    </tr>\n",
       "    <tr>\n",
       "      <th>3</th>\n",
       "      <td>0.0</td>\n",
       "      <td>1.0</td>\n",
       "      <td>0.0</td>\n",
       "      <td>1.0</td>\n",
       "      <td>27.0</td>\n",
       "      <td>0.0</td>\n",
       "      <td>0.0</td>\n",
       "      <td>0.0</td>\n",
       "      <td>1.0</td>\n",
       "      <td>1.0</td>\n",
       "      <td>...</td>\n",
       "      <td>1.0</td>\n",
       "      <td>0.0</td>\n",
       "      <td>2.0</td>\n",
       "      <td>0.0</td>\n",
       "      <td>0.0</td>\n",
       "      <td>0.0</td>\n",
       "      <td>0.0</td>\n",
       "      <td>11.0</td>\n",
       "      <td>3.0</td>\n",
       "      <td>6.0</td>\n",
       "    </tr>\n",
       "    <tr>\n",
       "      <th>4</th>\n",
       "      <td>0.0</td>\n",
       "      <td>1.0</td>\n",
       "      <td>1.0</td>\n",
       "      <td>1.0</td>\n",
       "      <td>24.0</td>\n",
       "      <td>0.0</td>\n",
       "      <td>0.0</td>\n",
       "      <td>0.0</td>\n",
       "      <td>1.0</td>\n",
       "      <td>1.0</td>\n",
       "      <td>...</td>\n",
       "      <td>1.0</td>\n",
       "      <td>0.0</td>\n",
       "      <td>2.0</td>\n",
       "      <td>3.0</td>\n",
       "      <td>0.0</td>\n",
       "      <td>0.0</td>\n",
       "      <td>0.0</td>\n",
       "      <td>11.0</td>\n",
       "      <td>5.0</td>\n",
       "      <td>4.0</td>\n",
       "    </tr>\n",
       "  </tbody>\n",
       "</table>\n",
       "<p>5 rows × 22 columns</p>\n",
       "</div>"
      ],
      "text/plain": [
       "   HeartDiseaseorAttack  HighBP  HighChol  CholCheck   BMI  Smoker  Stroke  \\\n",
       "0                   0.0     1.0       1.0        1.0  40.0     1.0     0.0   \n",
       "1                   0.0     0.0       0.0        0.0  25.0     1.0     0.0   \n",
       "2                   0.0     1.0       1.0        1.0  28.0     0.0     0.0   \n",
       "3                   0.0     1.0       0.0        1.0  27.0     0.0     0.0   \n",
       "4                   0.0     1.0       1.0        1.0  24.0     0.0     0.0   \n",
       "\n",
       "   Diabetes  PhysActivity  Fruits  ...  AnyHealthcare  NoDocbcCost  GenHlth  \\\n",
       "0       0.0           0.0     0.0  ...            1.0          0.0      5.0   \n",
       "1       0.0           1.0     0.0  ...            0.0          1.0      3.0   \n",
       "2       0.0           0.0     1.0  ...            1.0          1.0      5.0   \n",
       "3       0.0           1.0     1.0  ...            1.0          0.0      2.0   \n",
       "4       0.0           1.0     1.0  ...            1.0          0.0      2.0   \n",
       "\n",
       "   MentHlth  PhysHlth  DiffWalk  Sex   Age  Education  Income  \n",
       "0      18.0      15.0       1.0  0.0   9.0        4.0     3.0  \n",
       "1       0.0       0.0       0.0  0.0   7.0        6.0     1.0  \n",
       "2      30.0      30.0       1.0  0.0   9.0        4.0     8.0  \n",
       "3       0.0       0.0       0.0  0.0  11.0        3.0     6.0  \n",
       "4       3.0       0.0       0.0  0.0  11.0        5.0     4.0  \n",
       "\n",
       "[5 rows x 22 columns]"
      ]
     },
     "execution_count": 7,
     "metadata": {},
     "output_type": "execute_result"
    }
   ],
   "source": [
    "\n",
    "import pandas as pd\n",
    "import matplotlib.pyplot as plt\n",
    "import seaborn as sns\n",
    "\n",
    "# Configuración de estilo\n",
    "sns.set(style=\"whitegrid\")\n",
    "plt.rcParams[\"figure.figsize\"] = (10,6)\n",
    "\n",
    "# Cargar datos\n",
    "df = pd.read_csv(\"heart_disease_health_indicators_BRFSS2015.csv\")\n",
    "df.head()\n"
   ]
  },
  {
   "cell_type": "code",
   "execution_count": 8,
   "id": "b775da50",
   "metadata": {},
   "outputs": [
    {
     "data": {
      "text/plain": [
       "HeartDiseaseorAttack    0\n",
       "HighBP                  0\n",
       "HighChol                0\n",
       "CholCheck               0\n",
       "BMI                     0\n",
       "Smoker                  0\n",
       "Stroke                  0\n",
       "Diabetes                0\n",
       "PhysActivity            0\n",
       "Fruits                  0\n",
       "Veggies                 0\n",
       "HvyAlcoholConsump       0\n",
       "AnyHealthcare           0\n",
       "NoDocbcCost             0\n",
       "GenHlth                 0\n",
       "MentHlth                0\n",
       "PhysHlth                0\n",
       "DiffWalk                0\n",
       "Sex                     0\n",
       "Age                     0\n",
       "Education               0\n",
       "Income                  0\n",
       "dtype: int64"
      ]
     },
     "execution_count": 8,
     "metadata": {},
     "output_type": "execute_result"
    }
   ],
   "source": [
    "\n",
    "# Verificar valores nulos\n",
    "df.isnull().sum()\n"
   ]
  },
  {
   "cell_type": "code",
   "execution_count": null,
   "id": "01ce69e7",
   "metadata": {},
   "outputs": [],
   "source": []
  },
  {
   "cell_type": "markdown",
   "id": "2b1ccf96",
   "metadata": {},
   "source": [
    "## **Preguntas**\n",
    "#### 1. ¿Cuántos días reportan las personas, con y sin enfermedad, de mala salud física y mental?\n",
    "#### 2. ¿Cual es el promedio de **BMI** (Body Mass Index) de las personas enfermas y no enfermas?\n",
    "#### 3. ¿Cuál es la proporción de las personas enfermas según su edad y sexo?"
   ]
  },
  {
   "cell_type": "markdown",
   "id": "ad58c637",
   "metadata": {},
   "source": [
    "## 1. ¿Cuántos días reportan las personas, con y sin enfermedad, de mala salud física y mental?"
   ]
  },
  {
   "cell_type": "code",
   "execution_count": 9,
   "id": "358c6d0a",
   "metadata": {},
   "outputs": [
    {
     "name": "stdout",
     "output_type": "stream",
     "text": [
      "Días promedio de mala salud:\n",
      "                      PhysHlth  MentHlth\n",
      "HeartDiseaseorAttack                    \n",
      "0.0                       3.73      3.03\n",
      "1.0                       9.15      4.67\n",
      "\n",
      "Diferencias en días promedio:\n",
      "Física: 5.42\n",
      "Mental: 1.64\n"
     ]
    }
   ],
   "source": [
    "# Días promedio de mala salud física y mental por grupo\n",
    "salud_promedios = df.groupby(\"HeartDiseaseorAttack\")[[\"PhysHlth\", \"MentHlth\"]].mean().round(2)\n",
    "\n",
    "print(\"Días promedio de mala salud:\")\n",
    "print(salud_promedios)\n",
    "\n",
    "# Diferencia en días entre ambos grupos\n",
    "diferencia_fisica = salud_promedios.loc[1, \"PhysHlth\"] - salud_promedios.loc[0, \"PhysHlth\"]\n",
    "diferencia_mental = salud_promedios.loc[1, \"MentHlth\"] - salud_promedios.loc[0, \"MentHlth\"]\n",
    "\n",
    "print(\"\\nDiferencias en días promedio:\")\n",
    "print(\"Física:\", round(diferencia_fisica, 2))\n",
    "print(\"Mental:\", round(diferencia_mental, 2))\n"
   ]
  },
  {
   "cell_type": "markdown",
   "id": "e098000a",
   "metadata": {},
   "source": [
    "####  - Las personas que no sufrían de ninguna enfermedad cardiaca ni tuvieron un ataque, reportaron, de los últimos 30 días, en promedio 4 días de mala salud física y 3 días de mala salud mental.\n",
    "####  - Las personas que sí sufrían alguna enfermedad cardiaca o tuvieron un ataque, reportaron, en los últimos 30 días, en promedio 9 días de mala salud física y 5 días de mala salud mental.\n",
    "#### - Las personas que resultaron tener enfermedades cardiacas o un ataque sí mostraron una mayor mala salud mental y física los últimos 30 días que las personas que resultaron sanas."
   ]
  },
  {
   "cell_type": "markdown",
   "id": "3c4f9392",
   "metadata": {},
   "source": [
    "## 2. ¿Cual es el promedio de **BMI** (Body Mass Index) de las personas enfermas y no enfermas?"
   ]
  },
  {
   "cell_type": "code",
   "execution_count": 10,
   "id": "340ce799",
   "metadata": {},
   "outputs": [
    {
     "name": "stdout",
     "output_type": "stream",
     "text": [
      "Promedio de BMI:\n",
      "Sin enfermedad cardíaca: 28.27\n",
      "Con enfermedad cardíaca: 29.47\n",
      "Diferencia: 1.2\n"
     ]
    }
   ],
   "source": [
    "# Promedio de BMI por grupo de enfermedad cardíaca\n",
    "bmi_promedios = df.groupby(\"HeartDiseaseorAttack\")[\"BMI\"].mean()\n",
    "\n",
    "print(\"Promedio de BMI:\")\n",
    "print(\"Sin enfermedad cardíaca:\", round(bmi_promedios[0], 2))\n",
    "print(\"Con enfermedad cardíaca:\", round(bmi_promedios[1], 2))\n",
    "print(\"Diferencia:\", round(bmi_promedios[1] - bmi_promedios[0], 2))\n"
   ]
  },
  {
   "cell_type": "markdown",
   "id": "d173561f",
   "metadata": {},
   "source": [
    "#### - Las personas sin enfermedad cardíaca mostraron, en promedio un BMI de 28.27, el cual se puede clasificar como sobrepeso.\n",
    "#### - Las personas con enfermedad cardíaca mostraron, en promedio un BMI de 29.47, el cual también se puede clasificar como sobrepeso, pero está al límite de obesidad.\n",
    "##### - **Esto se concluye según la siguiente clasificación del BMI:**\n",
    "##### - Bajo peso: Menos de 18.5. \n",
    "##### - Peso saludable: Entre 18.5 y 24.9. \n",
    "##### - Sobrepeso: Entre 25 y 29.9. \n",
    "##### - Obesidad: 30 o más. "
   ]
  },
  {
   "cell_type": "markdown",
   "id": "f1956939",
   "metadata": {},
   "source": [
    "## 3. ¿Cuál es la proporción de las personas enfermas según su edad y sexo?"
   ]
  },
  {
   "cell_type": "code",
   "execution_count": 11,
   "id": "7966513c",
   "metadata": {},
   "outputs": [
    {
     "name": "stderr",
     "output_type": "stream",
     "text": [
      "C:\\Users\\gianp\\AppData\\Local\\Temp\\ipykernel_10140\\2355569123.py:5: FutureWarning: The default of observed=False is deprecated and will be changed to True in a future version of pandas. Pass observed=False to retain current behavior or observed=True to adopt the future default and silence this warning.\n",
      "  group = df.groupby([\"SexLabel\", \"AgeCategory\"])[\"HeartDiseaseorAttack\"].mean().reset_index()\n"
     ]
    },
    {
     "data": {
      "image/png": "[encoded data removed]",
      "text/plain": [
       "<Figure size 1000x600 with 1 Axes>"
      ]
     },
     "metadata": {},
     "output_type": "display_data"
    }
   ],
   "source": [
    "\n",
    "df[\"AgeCategory\"] = pd.cut(df[\"Age\"], bins=[0, 4, 7, 10, 13], labels=[\"18-29\", \"30-44\", \"45-59\", \"60+\"])\n",
    "df[\"SexLabel\"] = df[\"Sex\"].map({0: \"Femenino\", 1: \"Masculino\"})\n",
    "\n",
    "\n",
    "group = df.groupby([\"SexLabel\", \"AgeCategory\"])[\"HeartDiseaseorAttack\"].mean().reset_index()\n",
    "\n",
    "sns.barplot(data=group, x=\"AgeCategory\", y=\"HeartDiseaseorAttack\", hue=\"SexLabel\")\n",
    "plt.title(\"Prevalencia de enfermedad cardíaca por edad y sexo\")\n",
    "plt.ylabel(\"Proporción\")\n",
    "plt.xlabel(\"Categoría de Edad\")\n",
    "plt.xticks(rotation=0)\n",
    "plt.legend(title=\"Sexo\")\n",
    "plt.show()\n",
    "\n"
   ]
  },
  {
   "cell_type": "markdown",
   "id": "5110bcb9",
   "metadata": {},
   "source": [
    "#### - Se puede ver que conforme es mayor la persona, la proporción de enfermedades cardíacas aumenta independientemente del sexo. Sin embargo, a lo largo de la mayoría de los rangos de edades, se puede ver como los hombres tienen una mayor proporción sobre las mujeres."
   ]
  }
 ],
 "metadata": {
  "kernelspec": {
   "display_name": ".venv",
   "language": "python",
   "name": "python3"
  },
  "language_info": {
   "codemirror_mode": {
    "name": "ipython",
    "version": 3
   },
   "file_extension": ".py",
   "mimetype": "text/x-python",
   "name": "python",
   "nbconvert_exporter": "python",
   "pygments_lexer": "ipython3",
   "version": "3.12.10"
  }
 },
 "nbformat": 4,
 "nbformat_minor": 5
}
